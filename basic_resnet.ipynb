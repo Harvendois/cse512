{
 "cells": [
  {
   "cell_type": "code",
   "execution_count": 1,
   "id": "17e2bdeb",
   "metadata": {},
   "outputs": [],
   "source": [
    "# I will implement a basic ResNet model for image classification.\n",
    "# The model will consist of several convolutional layers, batch normalization, and ReLU activations.\n",
    "# The architecture will include skip connections to allow gradients to flow more easily through the network.\n",
    "# The model will be built using PyTorch.\n",
    "# The dataset used will have 10 classes, and the input images will need to be resized to 200x200 pixels.\n",
    "# The model will be trained using the Adam optimizer and cross-entropy loss.\n",
    "# data augmentation will be applied later. "
   ]
  },
  {
   "cell_type": "code",
   "execution_count": null,
   "id": "835846ae",
   "metadata": {},
   "outputs": [],
   "source": [
    "#take in images and crop images to 200x200 pixels\n"
   ]
  },
  {
   "cell_type": "code",
   "execution_count": null,
   "id": "b4cbe289",
   "metadata": {},
   "outputs": [],
   "source": []
  }
 ],
 "metadata": {
  "kernelspec": {
   "display_name": "termproject",
   "language": "python",
   "name": "python3"
  },
  "language_info": {
   "codemirror_mode": {
    "name": "ipython",
    "version": 3
   },
   "file_extension": ".py",
   "mimetype": "text/x-python",
   "name": "python",
   "nbconvert_exporter": "python",
   "pygments_lexer": "ipython3",
   "version": "3.12.9"
  }
 },
 "nbformat": 4,
 "nbformat_minor": 5
}
